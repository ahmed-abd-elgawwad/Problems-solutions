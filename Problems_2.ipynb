{
 "cells": [
  {
   "cell_type": "markdown",
   "id": "several-regular",
   "metadata": {},
   "source": [
    "# problems part_2"
   ]
  },
  {
   "cell_type": "markdown",
   "id": "realistic-discovery",
   "metadata": {},
   "source": [
    "### [1] hakerrank problem"
   ]
  },
  {
   "cell_type": "markdown",
   "id": "ambient-relationship",
   "metadata": {},
   "source": [
    "##### first solution by me"
   ]
  },
  {
   "cell_type": "code",
   "execution_count": 2,
   "id": "internal-thriller",
   "metadata": {},
   "outputs": [
    {
     "name": "stdout",
     "output_type": "stream",
     "text": [
      "5\n",
      "abc\n",
      "bbc\n",
      "abc\n",
      "bbc\n",
      "bbb\n",
      "3\n",
      "2 2 1 "
     ]
    }
   ],
   "source": [
    "    length=int(input())\n",
    "    if 1<=length<=10**6:\n",
    "        words=[input().strip() for i in range(length)]\n",
    "        dist=[] \n",
    "        for i in words:\n",
    "            if i not in dist:\n",
    "                dist.append(i)\n",
    "        print(len(dist))\n",
    "        [print(words.count(i),end=\" \") for i in dist] \n",
    "        # or print it like this\n",
    "        # for i in dist:\n",
    "        #    print(word.count(i))\n",
    "    else:\n",
    "        pass"
   ]
  },
  {
   "cell_type": "markdown",
   "id": "young-choir",
   "metadata": {},
   "source": [
    "##### second solution by hazem ,  😂عاش قوى يسطا "
   ]
  },
  {
   "cell_type": "code",
   "execution_count": 4,
   "id": "false-cleveland",
   "metadata": {
    "scrolled": true
   },
   "outputs": [
    {
     "name": "stdout",
     "output_type": "stream",
     "text": [
      "5\n",
      "abc\n",
      "bbc\n",
      "abc\n",
      "bbc\n",
      "bbb\n",
      "3\n",
      "2 2 1\n"
     ]
    }
   ],
   "source": [
    "n=int(input())\n",
    "d7k={}\n",
    "for x in range(n):\n",
    "    o=input()\n",
    "    if o in d7k.keys():\n",
    "         d7k[o]+=1\n",
    "    else:\n",
    "         d7k[o]=1\n",
    "print(len(set(d7k)))\n",
    "d7k=[str(i) for i in d7k.values() if i!=0]\n",
    "print(\" \".join(d7k))"
   ]
  },
  {
   "cell_type": "markdown",
   "id": "narrow-crash",
   "metadata": {},
   "source": [
    "## solutions of elzero problem "
   ]
  },
  {
   "cell_type": "markdown",
   "id": "active-edgar",
   "metadata": {},
   "source": [
    "### [1] in elZero"
   ]
  },
  {
   "cell_type": "code",
   "execution_count": 7,
   "id": "stylish-pulse",
   "metadata": {},
   "outputs": [],
   "source": [
    "def calculate(x,y,process='add'):\n",
    "    z=process.lower()[0]\n",
    "    if z=='a':\n",
    "         return x+y\n",
    "    elif z=='s':\n",
    "         return x-y\n",
    "    elif z=='m':\n",
    "         return x*y\n",
    "    else:\n",
    "         print(\"This operation does not exist\")"
   ]
  },
  {
   "cell_type": "code",
   "execution_count": 8,
   "id": "written-exclusive",
   "metadata": {},
   "outputs": [
    {
     "data": {
      "text/plain": [
       "5"
      ]
     },
     "execution_count": 8,
     "metadata": {},
     "output_type": "execute_result"
    }
   ],
   "source": [
    "calculate(2,3)"
   ]
  },
  {
   "cell_type": "code",
   "execution_count": 9,
   "id": "configured-discipline",
   "metadata": {},
   "outputs": [
    {
     "data": {
      "text/plain": [
       "-1"
      ]
     },
     "execution_count": 9,
     "metadata": {},
     "output_type": "execute_result"
    }
   ],
   "source": [
    "calculate(2,3,\"substract\")"
   ]
  },
  {
   "cell_type": "code",
   "execution_count": 10,
   "id": "extensive-extent",
   "metadata": {},
   "outputs": [
    {
     "data": {
      "text/plain": [
       "6"
      ]
     },
     "execution_count": 10,
     "metadata": {},
     "output_type": "execute_result"
    }
   ],
   "source": [
    "calculate(2,3,\"m\")"
   ]
  },
  {
   "cell_type": "markdown",
   "id": "elect-bottle",
   "metadata": {},
   "source": [
    "## [2] in Elzero"
   ]
  },
  {
   "cell_type": "code",
   "execution_count": 11,
   "id": "korean-bidder",
   "metadata": {},
   "outputs": [],
   "source": [
    "def addition(*args):\n",
    "    sum=0\n",
    "    for i in args:\n",
    "        if i==10:\n",
    "            pass\n",
    "        elif i==5:\n",
    "            sum-=i\n",
    "        else:\n",
    "            sum+=i\n",
    "    return sum"
   ]
  },
  {
   "cell_type": "code",
   "execution_count": 12,
   "id": "interim-victim",
   "metadata": {},
   "outputs": [
    {
     "name": "stdout",
     "output_type": "stream",
     "text": [
      "65\n"
     ]
    }
   ],
   "source": [
    "print(addition(10, 20, 30, 10, 15)) "
   ]
  },
  {
   "cell_type": "code",
   "execution_count": 13,
   "id": "adjusted-poetry",
   "metadata": {},
   "outputs": [
    {
     "name": "stdout",
     "output_type": "stream",
     "text": [
      "160\n"
     ]
    }
   ],
   "source": [
    "print(addition(10, 20, 30, 10, 15, 5, 100)) "
   ]
  },
  {
   "cell_type": "markdown",
   "id": "driving-rotation",
   "metadata": {},
   "source": [
    "### [3] "
   ]
  },
  {
   "cell_type": "code",
   "execution_count": 20,
   "id": "worse-yellow",
   "metadata": {},
   "outputs": [],
   "source": [
    "def show_skills(name,*skills):\n",
    "    print(f\"Hello {name} Your Skills Are\")\n",
    "    if skills:\n",
    "        print(\"skills are:-\")\n",
    "        for skill in skills:\n",
    "             print(f\"- {skill}\")\n",
    "    else:\n",
    "        print(\"you have no skills\")"
   ]
  },
  {
   "cell_type": "code",
   "execution_count": 21,
   "id": "increasing-frequency",
   "metadata": {},
   "outputs": [
    {
     "name": "stdout",
     "output_type": "stream",
     "text": [
      "Hello ahmed Your Skills Are\n",
      "you have no skills\n"
     ]
    }
   ],
   "source": [
    "show_skills(\"ahmed\")"
   ]
  },
  {
   "cell_type": "code",
   "execution_count": 22,
   "id": "alien-indicator",
   "metadata": {},
   "outputs": [
    {
     "name": "stdout",
     "output_type": "stream",
     "text": [
      "Hello ahmed Your Skills Are\n",
      "skills are:-\n",
      "- python\n",
      "- pandas\n"
     ]
    }
   ],
   "source": [
    "show_skills(\"ahmed\",\"python\",\"pandas\")"
   ]
  },
  {
   "cell_type": "markdown",
   "id": "outside-pathology",
   "metadata": {},
   "source": [
    "### [4]"
   ]
  },
  {
   "cell_type": "code",
   "execution_count": 26,
   "id": "ambient-treasure",
   "metadata": {},
   "outputs": [],
   "source": [
    "def get_score(**kargs):\n",
    "  for i ,value in kargs.items():\n",
    "        print(f\"-{i} => {value}\")"
   ]
  },
  {
   "cell_type": "code",
   "execution_count": 27,
   "id": "independent-crystal",
   "metadata": {},
   "outputs": [
    {
     "name": "stdout",
     "output_type": "stream",
     "text": [
      "-math => 90\n",
      "-problems => 70\n",
      "-chemistry => 80\n"
     ]
    }
   ],
   "source": [
    "get_score(math=90,problems=70,chemistry=80)"
   ]
  },
  {
   "cell_type": "markdown",
   "id": "sudden-uncertainty",
   "metadata": {},
   "source": [
    "### [5]"
   ]
  },
  {
   "cell_type": "code",
   "execution_count": 32,
   "id": "caroline-diploma",
   "metadata": {},
   "outputs": [],
   "source": [
    "def get_people_scores(name=None,**kargs):\n",
    "    if name:\n",
    "        print(f\"Hi {name} This Is Your Score Table:\")\n",
    "    if kargs:\n",
    "        for i , value in kargs.items():\n",
    "            print(f\"- {i} => {value}\")"
   ]
  },
  {
   "cell_type": "code",
   "execution_count": 33,
   "id": "upset-argentina",
   "metadata": {},
   "outputs": [
    {
     "name": "stdout",
     "output_type": "stream",
     "text": [
      "- math => 89\n",
      "- sdfjl => 30\n"
     ]
    }
   ],
   "source": [
    "get_people_scores(math=89,sdfjl=30)"
   ]
  },
  {
   "cell_type": "code",
   "execution_count": 35,
   "id": "explicit-management",
   "metadata": {},
   "outputs": [
    {
     "name": "stdout",
     "output_type": "stream",
     "text": [
      "Hi ahmed This Is Your Score Table:\n",
      "- math => 80\n",
      "- dsfslfjsd => 90\n"
     ]
    }
   ],
   "source": [
    "get_people_scores(\"ahmed\",math=80,dsfslfjsd=90)"
   ]
  },
  {
   "cell_type": "markdown",
   "id": "supposed-tender",
   "metadata": {},
   "source": [
    "### [6]"
   ]
  },
  {
   "cell_type": "code",
   "execution_count": 41,
   "id": "regulated-dressing",
   "metadata": {},
   "outputs": [],
   "source": [
    "def get_people_scores2(name=None,**kargs):\n",
    "    if name and kargs :\n",
    "        print(f\"Hi {name} This Is Your Score Table:\")\n",
    "    if kargs:\n",
    "        for i , value in kargs.items():\n",
    "            print(f\"- {i} => {value}\")\n",
    "    else:\n",
    "        print(\"you have no score to show\")"
   ]
  },
  {
   "cell_type": "code",
   "execution_count": 42,
   "id": "collective-muslim",
   "metadata": {},
   "outputs": [
    {
     "name": "stdout",
     "output_type": "stream",
     "text": [
      "- math => 89\n",
      "- sdfjl => 30\n"
     ]
    }
   ],
   "source": [
    "get_people_scores2(math=89,sdfjl=30)"
   ]
  },
  {
   "cell_type": "code",
   "execution_count": 43,
   "id": "suspected-organizer",
   "metadata": {},
   "outputs": [
    {
     "name": "stdout",
     "output_type": "stream",
     "text": [
      "Hi ahmed This Is Your Score Table:\n",
      "- math => 80\n",
      "- dsfslfjsd => 90\n"
     ]
    }
   ],
   "source": [
    "get_people_scores2(\"ahmed\",math=80,dsfslfjsd=90)"
   ]
  },
  {
   "cell_type": "code",
   "execution_count": 44,
   "id": "controlled-cradle",
   "metadata": {},
   "outputs": [
    {
     "name": "stdout",
     "output_type": "stream",
     "text": [
      "you have no score to show\n"
     ]
    }
   ],
   "source": [
    "get_people_scores2(\"osama\")"
   ]
  },
  {
   "cell_type": "code",
   "execution_count": null,
   "id": "diagnostic-interaction",
   "metadata": {},
   "outputs": [],
   "source": []
  }
 ],
 "metadata": {
  "kernelspec": {
   "display_name": "Python 3",
   "language": "python",
   "name": "python3"
  },
  "language_info": {
   "codemirror_mode": {
    "name": "ipython",
    "version": 3
   },
   "file_extension": ".py",
   "mimetype": "text/x-python",
   "name": "python",
   "nbconvert_exporter": "python",
   "pygments_lexer": "ipython3",
   "version": "3.8.2"
  }
 },
 "nbformat": 4,
 "nbformat_minor": 5
}
